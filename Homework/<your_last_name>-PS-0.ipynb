{
 "cells": [
  {
   "cell_type": "markdown",
   "metadata": {},
   "source": [
    "# Problem Set 0\n",
    "The goal of this homework is to give you some exercise with python. You should have already completed the Codecademy python course before continuing. The tutorials listed as homework on the syllabus will also prepare you to complete this homework. "
   ]
  },
  {
   "cell_type": "markdown",
   "metadata": {},
   "source": [
    "### 1. Store your first name and last name in separate string variables and then concatenate and print our your full name. "
   ]
  },
  {
   "cell_type": "code",
   "execution_count": null,
   "metadata": {
    "collapsed": false
   },
   "outputs": [],
   "source": []
  },
  {
   "cell_type": "markdown",
   "metadata": {},
   "source": [
    "### 2. Print out the correct value of fifteen divided by seven. "
   ]
  },
  {
   "cell_type": "code",
   "execution_count": null,
   "metadata": {
    "collapsed": false
   },
   "outputs": [],
   "source": []
  },
  {
   "cell_type": "markdown",
   "metadata": {},
   "source": [
    "### 3. Below you are given a list of professors in the College of Journalism. Print out each name on a new line by looping through the list. "
   ]
  },
  {
   "cell_type": "code",
   "execution_count": 19,
   "metadata": {
    "collapsed": false
   },
   "outputs": [],
   "source": [
    "professors = [\"Blackistone\", \"Bettag\", \"Banisky\", \"Yaros\", \"Chinoy\", \"Feldstein\", \"Diakopoulos\", \"Hanson\", \"Klose\", \"Moeller\", \"Solomon\", \"Stepp\", \"Priest\", \"Oates\", \"Nelson\", \"Steiner\", \"Chadha\"]"
   ]
  },
  {
   "cell_type": "code",
   "execution_count": null,
   "metadata": {
    "collapsed": false
   },
   "outputs": [],
   "source": []
  },
  {
   "cell_type": "markdown",
   "metadata": {},
   "source": [
    "### 4. Sort the list of professors alphabetically and print it out again. "
   ]
  },
  {
   "cell_type": "code",
   "execution_count": null,
   "metadata": {
    "collapsed": false
   },
   "outputs": [],
   "source": []
  },
  {
   "cell_type": "markdown",
   "metadata": {},
   "source": [
    "### 5. Remove the 6th professor's name from the *sorted* list, also remove \"Klose\" from the list using the `remove()` function, then print the list out again."
   ]
  },
  {
   "cell_type": "code",
   "execution_count": null,
   "metadata": {
    "collapsed": false
   },
   "outputs": [],
   "source": []
  },
  {
   "cell_type": "markdown",
   "metadata": {},
   "source": [
    "### 6. Print out just the 3rd through 5th names in the sorted list."
   ]
  },
  {
   "cell_type": "code",
   "execution_count": null,
   "metadata": {
    "collapsed": false
   },
   "outputs": [],
   "source": []
  },
  {
   "cell_type": "markdown",
   "metadata": {},
   "source": [
    "### 7. Use a list comprehension to make all of the names in the professors list lower case. Print that lowercased list out. "
   ]
  },
  {
   "cell_type": "code",
   "execution_count": null,
   "metadata": {
    "collapsed": false
   },
   "outputs": [],
   "source": []
  },
  {
   "cell_type": "markdown",
   "metadata": {},
   "source": [
    "### 8. Create a function that writes a headline for a breaking news alert about an earthquake according to the following criteria:\n",
    "- Function should take in at least two parameters, one for the earthquakes magnitude, and one for the location of the earthquake. \n",
    "- The function should use these parameters in writing the headline. \n",
    "- Use the headline function to write three hypothetical headlines for different earthquakes. "
   ]
  },
  {
   "cell_type": "code",
   "execution_count": null,
   "metadata": {
    "collapsed": true
   },
   "outputs": [],
   "source": []
  },
  {
   "cell_type": "markdown",
   "metadata": {},
   "source": [
    "### 9. Extend your earthquake headline writing function to use if statements so that the headlines differ depending on the magnitude of the quake.\n",
    "- Have at least two versions of the headline depending on the magnitude.\n",
    "- Use the new headline function to write three hypothetical headlines for different earthquakes of different magnitudes."
   ]
  },
  {
   "cell_type": "code",
   "execution_count": null,
   "metadata": {
    "collapsed": false
   },
   "outputs": [],
   "source": []
  }
 ],
 "metadata": {
  "kernelspec": {
   "display_name": "Python [Root]",
   "language": "python",
   "name": "Python [Root]"
  },
  "language_info": {
   "codemirror_mode": {
    "name": "ipython",
    "version": 2
   },
   "file_extension": ".py",
   "mimetype": "text/x-python",
   "name": "python",
   "nbconvert_exporter": "python",
   "pygments_lexer": "ipython2",
   "version": "2.7.12"
  }
 },
 "nbformat": 4,
 "nbformat_minor": 0
}
