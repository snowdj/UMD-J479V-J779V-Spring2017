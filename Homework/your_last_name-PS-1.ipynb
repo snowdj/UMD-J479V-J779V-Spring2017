{
 "cells": [
  {
   "cell_type": "markdown",
   "metadata": {},
   "source": [
    "# Problem Set 1\n",
    "Here you'll have a chance to practice loading and filtering data using a new dataset. Please review Tutorial 1 before continuing, and note that you may have to do additional research in the pandas documentation in order to effectively complete this problem set. "
   ]
  },
  {
   "cell_type": "markdown",
   "metadata": {},
   "source": [
    "### 1. Get Data and Load it\n",
    "Download the [datafile](https://github.com/comp-journalism/UMD-J479V-J779V-Spring2017/blob/master/Data/911_Calls_Baltimore_11-2016.csv?raw=true) of the 911 calls in the City of Baltimore from November, 2016. \n",
    "\n",
    "Load the .csv file into a variable named \"`calls_df`\" and print it out. There is a column called `callDateTime` that you should be sure to parse as a datetime field. "
   ]
  },
  {
   "cell_type": "code",
   "execution_count": null,
   "metadata": {
    "collapsed": true
   },
   "outputs": [],
   "source": []
  },
  {
   "cell_type": "markdown",
   "metadata": {},
   "source": [
    "### 2. Remove Columns and Save as a new .csv file\n",
    "Remove the \"callNumber\" and \"location\" columns from the `calls_df` dataframe. Then save the remaining columns to a new .csv file being sure to exclude the index column from output as well. "
   ]
  },
  {
   "cell_type": "code",
   "execution_count": null,
   "metadata": {
    "collapsed": true
   },
   "outputs": [],
   "source": []
  },
  {
   "cell_type": "markdown",
   "metadata": {},
   "source": [
    "### 3. What are the different unique values that the \"priority\" column can take on? What about for the \"district\" column?\n",
    "If you look in the `priority` column you see different values like \"low\", \"medium\" etc. What is the complete set of different values that you find in that column, or in the `district` column?"
   ]
  },
  {
   "cell_type": "code",
   "execution_count": null,
   "metadata": {
    "collapsed": true
   },
   "outputs": [],
   "source": []
  },
  {
   "cell_type": "markdown",
   "metadata": {},
   "source": [
    "### 4. Filter the dataframe to only calls that were \"Low\" or \"Medium\" priority. How many were there? What fraction of the total do these represent?"
   ]
  },
  {
   "cell_type": "code",
   "execution_count": null,
   "metadata": {
    "collapsed": true
   },
   "outputs": [],
   "source": []
  },
  {
   "cell_type": "markdown",
   "metadata": {},
   "source": [
    "### 5. Group the dataframe by district and summarize the total number of calls by neighborhood. Which neighborhood district gets the most number of calls?"
   ]
  },
  {
   "cell_type": "code",
   "execution_count": null,
   "metadata": {
    "collapsed": true
   },
   "outputs": [],
   "source": []
  }
 ],
 "metadata": {
  "anaconda-cloud": {},
  "kernelspec": {
   "display_name": "Python [Root]",
   "language": "python",
   "name": "Python [Root]"
  },
  "language_info": {
   "codemirror_mode": {
    "name": "ipython",
    "version": 2
   },
   "file_extension": ".py",
   "mimetype": "text/x-python",
   "name": "python",
   "nbconvert_exporter": "python",
   "pygments_lexer": "ipython2",
   "version": "2.7.12"
  }
 },
 "nbformat": 4,
 "nbformat_minor": 0
}
